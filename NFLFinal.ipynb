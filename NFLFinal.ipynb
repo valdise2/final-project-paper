{
 "cells": [
  {
   "cell_type": "code",
   "execution_count": 2,
   "id": "c6085fc8-770e-47b7-a959-d7fe62746723",
   "metadata": {
    "tags": []
   },
   "outputs": [],
   "source": [
    "import pandas as pd\n",
    "import matplotlib.pylab as plt\n",
    "import seaborn as sns\n",
    "import matplotlib.patches as patches\n",
    "import warnings\n",
    "import numpy as np\n",
    "warnings.filterwarnings('ignore')\n",
    "\n",
    "from time import time\n",
    "\n",
    "# Loading the data\n",
    "playlist = pd.read_csv('./PlayList.csv')\n",
    "injury_rec = pd.read_csv('InjuryRecord.csv')\n",
    "player_track = pd.read_csv('PlayerTrackData.csv', nrows=int(1e6)) # loading only a small portion of the data"
   ]
  },
  {
   "cell_type": "code",
   "execution_count": 3,
   "id": "55a2c557-0a34-4023-abc2-89acb18de04f",
   "metadata": {
    "tags": []
   },
   "outputs": [],
   "source": [
    "# Splitting data between synthetic and natural fields\n",
    "injury_nat = injury_rec[injury_rec.Surface == 'Natural']\n",
    "injury_synth = injury_rec[injury_rec.Surface == 'Synthetic']"
   ]
  },
  {
   "cell_type": "code",
   "execution_count": 4,
   "id": "d501c4b9-7e12-4000-82fa-38fef768285a",
   "metadata": {
    "tags": []
   },
   "outputs": [
    {
     "data": {
      "text/html": [
       "<div>\n",
       "<style scoped>\n",
       "    .dataframe tbody tr th:only-of-type {\n",
       "        vertical-align: middle;\n",
       "    }\n",
       "\n",
       "    .dataframe tbody tr th {\n",
       "        vertical-align: top;\n",
       "    }\n",
       "\n",
       "    .dataframe thead th {\n",
       "        text-align: right;\n",
       "    }\n",
       "</style>\n",
       "<table border=\"1\" class=\"dataframe\">\n",
       "  <thead>\n",
       "    <tr style=\"text-align: right;\">\n",
       "      <th></th>\n",
       "      <th>PlayerKey</th>\n",
       "      <th>GameID</th>\n",
       "      <th>PlayKey</th>\n",
       "      <th>BodyPart</th>\n",
       "      <th>Surface</th>\n",
       "      <th>DM_M1</th>\n",
       "      <th>DM_M7</th>\n",
       "      <th>DM_M28</th>\n",
       "      <th>DM_M42</th>\n",
       "      <th>RosterPosition</th>\n",
       "      <th>PlayerDay</th>\n",
       "      <th>PlayerGame</th>\n",
       "      <th>StadiumType</th>\n",
       "      <th>FieldType</th>\n",
       "      <th>Temperature</th>\n",
       "      <th>Weather</th>\n",
       "      <th>PlayType</th>\n",
       "      <th>PlayerGamePlay</th>\n",
       "      <th>Position</th>\n",
       "      <th>PositionGroup</th>\n",
       "    </tr>\n",
       "  </thead>\n",
       "  <tbody>\n",
       "    <tr>\n",
       "      <th>0</th>\n",
       "      <td>39873</td>\n",
       "      <td>39873-4</td>\n",
       "      <td>39873-4-32</td>\n",
       "      <td>Knee</td>\n",
       "      <td>Synthetic</td>\n",
       "      <td>1</td>\n",
       "      <td>1</td>\n",
       "      <td>1</td>\n",
       "      <td>1</td>\n",
       "      <td>Linebacker</td>\n",
       "      <td>29.0</td>\n",
       "      <td>4.0</td>\n",
       "      <td>Indoors</td>\n",
       "      <td>Synthetic</td>\n",
       "      <td>84.0</td>\n",
       "      <td>Cloudy</td>\n",
       "      <td>Punt</td>\n",
       "      <td>32.0</td>\n",
       "      <td>OLB</td>\n",
       "      <td>LB</td>\n",
       "    </tr>\n",
       "    <tr>\n",
       "      <th>1</th>\n",
       "      <td>46074</td>\n",
       "      <td>46074-7</td>\n",
       "      <td>46074-7-26</td>\n",
       "      <td>Knee</td>\n",
       "      <td>Natural</td>\n",
       "      <td>1</td>\n",
       "      <td>1</td>\n",
       "      <td>0</td>\n",
       "      <td>0</td>\n",
       "      <td>Linebacker</td>\n",
       "      <td>50.0</td>\n",
       "      <td>7.0</td>\n",
       "      <td>Open</td>\n",
       "      <td>Natural</td>\n",
       "      <td>76.0</td>\n",
       "      <td>Partly Cloudy</td>\n",
       "      <td>Punt</td>\n",
       "      <td>26.0</td>\n",
       "      <td>OLB</td>\n",
       "      <td>LB</td>\n",
       "    </tr>\n",
       "    <tr>\n",
       "      <th>2</th>\n",
       "      <td>36557</td>\n",
       "      <td>36557-1</td>\n",
       "      <td>36557-1-70</td>\n",
       "      <td>Ankle</td>\n",
       "      <td>Synthetic</td>\n",
       "      <td>1</td>\n",
       "      <td>1</td>\n",
       "      <td>1</td>\n",
       "      <td>1</td>\n",
       "      <td>Safety</td>\n",
       "      <td>1.0</td>\n",
       "      <td>1.0</td>\n",
       "      <td>Outdoor</td>\n",
       "      <td>Synthetic</td>\n",
       "      <td>63.0</td>\n",
       "      <td>Clear and warm</td>\n",
       "      <td>Pass</td>\n",
       "      <td>70.0</td>\n",
       "      <td>SS</td>\n",
       "      <td>DB</td>\n",
       "    </tr>\n",
       "    <tr>\n",
       "      <th>3</th>\n",
       "      <td>46646</td>\n",
       "      <td>46646-3</td>\n",
       "      <td>46646-3-30</td>\n",
       "      <td>Ankle</td>\n",
       "      <td>Natural</td>\n",
       "      <td>1</td>\n",
       "      <td>0</td>\n",
       "      <td>0</td>\n",
       "      <td>0</td>\n",
       "      <td>Linebacker</td>\n",
       "      <td>15.0</td>\n",
       "      <td>3.0</td>\n",
       "      <td>Outdoor</td>\n",
       "      <td>Natural</td>\n",
       "      <td>80.0</td>\n",
       "      <td>Cloudy</td>\n",
       "      <td>Punt</td>\n",
       "      <td>30.0</td>\n",
       "      <td>LB</td>\n",
       "      <td>LB</td>\n",
       "    </tr>\n",
       "    <tr>\n",
       "      <th>4</th>\n",
       "      <td>43532</td>\n",
       "      <td>43532-5</td>\n",
       "      <td>43532-5-69</td>\n",
       "      <td>Ankle</td>\n",
       "      <td>Synthetic</td>\n",
       "      <td>1</td>\n",
       "      <td>1</td>\n",
       "      <td>1</td>\n",
       "      <td>1</td>\n",
       "      <td>Wide Receiver</td>\n",
       "      <td>32.0</td>\n",
       "      <td>5.0</td>\n",
       "      <td>Retractable Roof</td>\n",
       "      <td>Synthetic</td>\n",
       "      <td>89.0</td>\n",
       "      <td>Partly Cloudy</td>\n",
       "      <td>Kickoff</td>\n",
       "      <td>69.0</td>\n",
       "      <td>WR</td>\n",
       "      <td>WR</td>\n",
       "    </tr>\n",
       "  </tbody>\n",
       "</table>\n",
       "</div>"
      ],
      "text/plain": [
       "   PlayerKey   GameID     PlayKey BodyPart    Surface  DM_M1  DM_M7  DM_M28  \\\n",
       "0      39873  39873-4  39873-4-32     Knee  Synthetic      1      1       1   \n",
       "1      46074  46074-7  46074-7-26     Knee    Natural      1      1       0   \n",
       "2      36557  36557-1  36557-1-70    Ankle  Synthetic      1      1       1   \n",
       "3      46646  46646-3  46646-3-30    Ankle    Natural      1      0       0   \n",
       "4      43532  43532-5  43532-5-69    Ankle  Synthetic      1      1       1   \n",
       "\n",
       "   DM_M42 RosterPosition  PlayerDay  PlayerGame       StadiumType  FieldType  \\\n",
       "0       1     Linebacker       29.0         4.0           Indoors  Synthetic   \n",
       "1       0     Linebacker       50.0         7.0              Open    Natural   \n",
       "2       1         Safety        1.0         1.0           Outdoor  Synthetic   \n",
       "3       0     Linebacker       15.0         3.0           Outdoor    Natural   \n",
       "4       1  Wide Receiver       32.0         5.0  Retractable Roof  Synthetic   \n",
       "\n",
       "   Temperature         Weather PlayType  PlayerGamePlay Position PositionGroup  \n",
       "0         84.0          Cloudy     Punt            32.0      OLB            LB  \n",
       "1         76.0   Partly Cloudy     Punt            26.0      OLB            LB  \n",
       "2         63.0  Clear and warm     Pass            70.0       SS            DB  \n",
       "3         80.0          Cloudy     Punt            30.0       LB            LB  \n",
       "4         89.0   Partly Cloudy  Kickoff            69.0       WR            WR  "
      ]
     },
     "execution_count": 4,
     "metadata": {},
     "output_type": "execute_result"
    }
   ],
   "source": [
    "# Merging datasets\n",
    "injury_nat_play = pd.merge(injury_nat,\n",
    "                 playlist,\n",
    "                 on = ['PlayerKey', 'GameID', 'PlayKey'],\n",
    "                       how = 'left')\n",
    "injury_synth_play = pd.merge(injury_synth,\n",
    "                 playlist,\n",
    "                 on = ['PlayerKey', 'GameID', 'PlayKey'],\n",
    "                       how = 'left')\n",
    "\n",
    "injury_play = pd.merge(injury_rec,\n",
    "                 playlist,\n",
    "                 on = ['PlayerKey', 'GameID', 'PlayKey'],\n",
    "                       how = 'left')\n",
    "\n",
    "inj_play_enc = pd.concat([injury_play,pd.get_dummies(injury_play['BodyPart'], prefix = 'part'), pd.get_dummies(injury_play['RosterPosition'], prefix='pos')],axis=1)\n",
    "\n",
    "injury_play.head()"
   ]
  },
  {
   "cell_type": "code",
   "execution_count": 5,
   "id": "4855583e-3437-41da-bedf-b14bd5a63b7b",
   "metadata": {
    "tags": []
   },
   "outputs": [],
   "source": [
    "# Merging knee, foot, and ankle injuries\n",
    "# All values in these columns will now be equal to 0 or 1\n",
    "# One hot encoding for feature engineering\n",
    "m_injury_play = pd.merge(playlist, injury_rec, on = 'PlayKey',how = 'left')\n",
    "m_injury_play['Injury'] = m_injury_play['BodyPart'].apply(lambda x: 1 if x in ['Knee', 'Foot', 'Ankle']  else 0)\n",
    "\n",
    "m_injury_play_agg = m_injury_play[['StadiumType', 'FieldType', 'Weather', 'Injury', 'PlayType', 'Position', 'PlayerDay', 'Temperature']]\n",
    "\n",
    "# Changing weather, stadium type, and field type to a value of either 0 or 1\n",
    "# One hot encoding for feature engineering\n",
    "m_injury_play_agg['Weather'] = m_injury_play_agg.Weather.isin(['rain', 'Rain', 'Snow', 'snow'])\n",
    "m_injury_play_agg['Weather'] = m_injury_play_agg['Weather'].apply(lambda x: 1 if x == True  else 0)\n",
    "\n",
    "m_injury_play_agg['StadiumType'] = m_injury_play_agg.StadiumType.isin(['Outdoor', 'Outdoors', 'Open', 'Oudoor', 'Ourdoor', 'Outddors', 'Outdor', 'Outside'])\n",
    "m_injury_play_agg['StadiumType'] = m_injury_play_agg['StadiumType'].apply(lambda x: 1 if x == True  else 0)\n",
    "\n",
    "m_injury_play_agg['FieldType'] = m_injury_play_agg.FieldType.isin(['Natural'])\n",
    "m_injury_play_agg['FieldType'] = m_injury_play_agg['FieldType'].apply(lambda x: 1 if x == True  else 0)\n",
    "\n",
    "m_injury_play_agg.PlayType = pd.Categorical(m_injury_play_agg.PlayType)\n",
    "m_injury_play_agg['PlayType_c'] = m_injury_play_agg.PlayType.cat.codes\n",
    "\n",
    "m_injury_play_agg.Position = pd.Categorical(m_injury_play_agg.Position)\n",
    "m_injury_play_agg['Position_c'] = m_injury_play_agg.Position.cat.codes\n",
    "\n",
    "# Multiplying stadium type variable with weather variable\n",
    "# Games that are played indoors are not affected by weather\n",
    "m_injury_play_agg['Multiplication'] = m_injury_play_agg['StadiumType'] * m_injury_play_agg['Weather']"
   ]
  },
  {
   "cell_type": "code",
   "execution_count": 6,
   "id": "b30d769e-02f2-4d4f-9f93-f4a19b931c45",
   "metadata": {
    "tags": []
   },
   "outputs": [
    {
     "data": {
      "text/html": [
       "<div>\n",
       "<style scoped>\n",
       "    .dataframe tbody tr th:only-of-type {\n",
       "        vertical-align: middle;\n",
       "    }\n",
       "\n",
       "    .dataframe tbody tr th {\n",
       "        vertical-align: top;\n",
       "    }\n",
       "\n",
       "    .dataframe thead th {\n",
       "        text-align: right;\n",
       "    }\n",
       "</style>\n",
       "<table border=\"1\" class=\"dataframe\">\n",
       "  <thead>\n",
       "    <tr style=\"text-align: right;\">\n",
       "      <th></th>\n",
       "      <th>StadiumType</th>\n",
       "      <th>FieldType</th>\n",
       "      <th>Weather</th>\n",
       "      <th>Injury</th>\n",
       "      <th>PlayType</th>\n",
       "      <th>Position</th>\n",
       "      <th>PlayerDay</th>\n",
       "      <th>Temperature</th>\n",
       "      <th>PlayType_c</th>\n",
       "      <th>Position_c</th>\n",
       "      <th>Multiplication</th>\n",
       "    </tr>\n",
       "  </thead>\n",
       "  <tbody>\n",
       "    <tr>\n",
       "      <th>0</th>\n",
       "      <td>1</td>\n",
       "      <td>0</td>\n",
       "      <td>0</td>\n",
       "      <td>0</td>\n",
       "      <td>Pass</td>\n",
       "      <td>QB</td>\n",
       "      <td>1</td>\n",
       "      <td>63</td>\n",
       "      <td>6</td>\n",
       "      <td>16</td>\n",
       "      <td>0</td>\n",
       "    </tr>\n",
       "    <tr>\n",
       "      <th>1</th>\n",
       "      <td>1</td>\n",
       "      <td>0</td>\n",
       "      <td>0</td>\n",
       "      <td>0</td>\n",
       "      <td>Pass</td>\n",
       "      <td>QB</td>\n",
       "      <td>1</td>\n",
       "      <td>63</td>\n",
       "      <td>6</td>\n",
       "      <td>16</td>\n",
       "      <td>0</td>\n",
       "    </tr>\n",
       "    <tr>\n",
       "      <th>2</th>\n",
       "      <td>1</td>\n",
       "      <td>0</td>\n",
       "      <td>0</td>\n",
       "      <td>0</td>\n",
       "      <td>Rush</td>\n",
       "      <td>QB</td>\n",
       "      <td>1</td>\n",
       "      <td>63</td>\n",
       "      <td>10</td>\n",
       "      <td>16</td>\n",
       "      <td>0</td>\n",
       "    </tr>\n",
       "    <tr>\n",
       "      <th>3</th>\n",
       "      <td>1</td>\n",
       "      <td>0</td>\n",
       "      <td>0</td>\n",
       "      <td>0</td>\n",
       "      <td>Rush</td>\n",
       "      <td>QB</td>\n",
       "      <td>1</td>\n",
       "      <td>63</td>\n",
       "      <td>10</td>\n",
       "      <td>16</td>\n",
       "      <td>0</td>\n",
       "    </tr>\n",
       "    <tr>\n",
       "      <th>4</th>\n",
       "      <td>1</td>\n",
       "      <td>0</td>\n",
       "      <td>0</td>\n",
       "      <td>0</td>\n",
       "      <td>Pass</td>\n",
       "      <td>QB</td>\n",
       "      <td>1</td>\n",
       "      <td>63</td>\n",
       "      <td>6</td>\n",
       "      <td>16</td>\n",
       "      <td>0</td>\n",
       "    </tr>\n",
       "  </tbody>\n",
       "</table>\n",
       "</div>"
      ],
      "text/plain": [
       "   StadiumType  FieldType  Weather  Injury PlayType Position  PlayerDay  \\\n",
       "0            1          0        0       0     Pass       QB          1   \n",
       "1            1          0        0       0     Pass       QB          1   \n",
       "2            1          0        0       0     Rush       QB          1   \n",
       "3            1          0        0       0     Rush       QB          1   \n",
       "4            1          0        0       0     Pass       QB          1   \n",
       "\n",
       "   Temperature  PlayType_c  Position_c  Multiplication  \n",
       "0           63           6          16               0  \n",
       "1           63           6          16               0  \n",
       "2           63          10          16               0  \n",
       "3           63          10          16               0  \n",
       "4           63           6          16               0  "
      ]
     },
     "execution_count": 6,
     "metadata": {},
     "output_type": "execute_result"
    }
   ],
   "source": [
    "m_injury_play_agg.head()"
   ]
  },
  {
   "cell_type": "code",
   "execution_count": 11,
   "id": "99f2d68a-3f45-42f6-91fe-48718519de7b",
   "metadata": {
    "tags": []
   },
   "outputs": [
    {
     "data": {
      "image/png": "[encoded data removed]",
      "text/plain": [
       "<Figure size 640x480 with 1 Axes>"
      ]
     },
     "metadata": {},
     "output_type": "display_data"
    }
   ],
   "source": [
    "# Comparing injuries based on body part\n",
    "# Knee and ankle injuries tend to have increased severity\n",
    "import seaborn as sns\n",
    "\n",
    "sns.countplot(data = injury_play, x = 'BodyPart', hue = 'Surface', palette = 'Set2')\n",
    "plt.show()"
   ]
  },
  {
   "cell_type": "code",
   "execution_count": 8,
   "id": "bef79548-dca0-40fb-8583-0b73b7cf791f",
   "metadata": {
    "tags": []
   },
   "outputs": [
    {
     "data": {
      "image/png": "[encoded data removed]",
      "text/plain": [
       "<Figure size 3000x1000 with 1 Axes>"
      ]
     },
     "metadata": {},
     "output_type": "display_data"
    }
   ],
   "source": [
    "# Comparing injuries based on stadium type\n",
    "plt.figure(figsize = (30, 10))\n",
    "sns.countplot(data = injury_play, x = 'StadiumType', hue = 'Surface', palette = 'Set2')\n",
    "plt.show()"
   ]
  },
  {
   "cell_type": "code",
   "execution_count": 9,
   "id": "81ace693-bbfc-4e24-ac37-d0cc13327434",
   "metadata": {
    "tags": []
   },
   "outputs": [
    {
     "data": {
      "image/png": "[encoded data removed]",
      "text/plain": [
       "<Figure size 3000x1000 with 1 Axes>"
      ]
     },
     "metadata": {},
     "output_type": "display_data"
    }
   ],
   "source": [
    "# Comparing injuries based on weather\n",
    "plt.figure(figsize = (30, 10))\n",
    "sns.countplot(data = injury_play, x = 'Weather', hue = 'Surface', palette = 'Set2')\n",
    "plt.show()"
   ]
  },
  {
   "cell_type": "code",
   "execution_count": 10,
   "id": "0bef64b1-3191-4828-80fe-5b5fddeed3be",
   "metadata": {
    "tags": []
   },
   "outputs": [
    {
     "data": {
      "image/png": "[encoded data removed]",
      "text/plain": [
       "<Figure size 500x500 with 1 Axes>"
      ]
     },
     "metadata": {},
     "output_type": "display_data"
    }
   ],
   "source": [
    "# Comparing injuries based on injury length (at least 28 days missed due to injury)\n",
    "# Injury length is proportional to injury severity\n",
    "\n",
    "plt.figure(figsize = (5, 5))\n",
    "sns.countplot(data = injury_play, x = 'DM_M28', hue = 'Surface', palette = 'Set2')\n",
    "plt.show()"
   ]
  },
  {
   "cell_type": "code",
   "execution_count": 12,
   "id": "e68e78ba-8848-430f-8b70-36afe797bbf0",
   "metadata": {
    "tags": []
   },
   "outputs": [
    {
     "data": {
      "image/png": "[encoded data removed]",
      "text/plain": [
       "<Figure size 500x500 with 1 Axes>"
      ]
     },
     "metadata": {},
     "output_type": "display_data"
    }
   ],
   "source": [
    "# Comparing injuries based on injury length (at least 42 days missed due to injury)\n",
    "# Injury length is proportional to injury severity\n",
    "\n",
    "plt.figure(figsize = (5, 5))\n",
    "sns.countplot(data = injury_play, x = 'DM_M42', hue = 'Surface', palette = 'Set2')\n",
    "plt.show()"
   ]
  },
  {
   "cell_type": "code",
   "execution_count": 13,
   "id": "fd4051fb-f266-43d4-bbf4-9d854e07baa5",
   "metadata": {
    "tags": []
   },
   "outputs": [
    {
     "name": "stdout",
     "output_type": "stream",
     "text": [
      "Accuracy: 0.9998127387580834\n",
      "Precision: 0.0\n",
      "Recall: 0.0\n",
      "F1 Score: 0.9997191169046392\n"
     ]
    }
   ],
   "source": [
    "# Importing libraries\n",
    "import pandas as pd\n",
    "from sklearn.model_selection import train_test_split\n",
    "from sklearn.ensemble import RandomForestClassifier\n",
    "from sklearn.metrics import accuracy_score\n",
    "from sklearn.metrics import precision_score\n",
    "from sklearn.metrics import recall_score\n",
    "from sklearn.metrics import f1_score\n",
    "\n",
    "# Adding predictor variables and target variable\n",
    "data = m_injury_play_agg\n",
    "X = data[['StadiumType', 'Weather', 'FieldType']]\n",
    "y = data['Injury']\n",
    "\n",
    "# Splitting into training and testing sets\n",
    "X_train, X_test, y_train, y_test = train_test_split(X, y, test_size = 0.30, random_state = 16)\n",
    "\n",
    "# Training a random forest classifier\n",
    "model = RandomForestClassifier()\n",
    "model.fit(X_train, y_train)\n",
    "\n",
    "# Making predictions on test data\n",
    "y_pred = model.predict(X_test)\n",
    "\n",
    "# Evaluating model performance\n",
    "accuracy = accuracy_score(y_test, y_pred)\n",
    "print('Accuracy:', accuracy)\n",
    "\n",
    "precision = precision_score(y_test, y_pred)\n",
    "print(\"Precision:\", precision)\n",
    "\n",
    "recall = recall_score(y_test, y_pred)\n",
    "print(\"Recall:\", recall)\n",
    "\n",
    "f1 = f1_score(y_test, y_pred, average = 'weighted')\n",
    "print(\"F1 Score:\", f1)"
   ]
  },
  {
   "cell_type": "code",
   "execution_count": 14,
   "id": "d1d06a0d-2203-4681-8488-49423b4b577a",
   "metadata": {},
   "outputs": [
    {
     "data": {
      "image/png": "[encoded data removed]",
      "text/plain": [
       "<Figure size 640x480 with 2 Axes>"
      ]
     },
     "metadata": {},
     "output_type": "display_data"
    }
   ],
   "source": [
    "# Importing libraries\n",
    "from sklearn.ensemble import RandomForestClassifier\n",
    "from sklearn.metrics import confusion_matrix, ConfusionMatrixDisplay\n",
    "import matplotlib.pyplot as plt\n",
    "\n",
    "# Creating and fitting the model\n",
    "model = RandomForestClassifier()\n",
    "model.fit(X_train, y_train)\n",
    "\n",
    "# Making predictions on the test data\n",
    "y_pred = model.predict(X_test)\n",
    "\n",
    "# Generating the confusion matrix\n",
    "cm = confusion_matrix(y_test, y_pred)\n",
    "\n",
    "# Displaying the confusion matrix\n",
    "disp = ConfusionMatrixDisplay(confusion_matrix = cm)\n",
    "disp.plot()\n",
    "plt.show()"
   ]
  },
  {
   "cell_type": "code",
   "execution_count": 15,
   "id": "ea7f62aa-5486-4a64-b808-d93b64c1db89",
   "metadata": {
    "tags": []
   },
   "outputs": [
    {
     "name": "stdout",
     "output_type": "stream",
     "text": [
      "Accuracy: 0.9998127387580834\n",
      "Precision: 0.0\n",
      "Recall: 0.0\n",
      "F1 Score: 0.9997191169046392\n"
     ]
    }
   ],
   "source": [
    "# Importing libraries\n",
    "import pandas as pd\n",
    "from sklearn.model_selection import train_test_split\n",
    "from sklearn.linear_model import LogisticRegression\n",
    "from sklearn.metrics import accuracy_score\n",
    "from sklearn.metrics import precision_score\n",
    "from sklearn.metrics import recall_score\n",
    "from sklearn.metrics import f1_score\n",
    "\n",
    "# Adding predictor variables and target variable\n",
    "data = m_injury_play_agg\n",
    "X = data[['StadiumType', 'Weather', 'FieldType']]\n",
    "y = data['Injury']\n",
    "\n",
    "# Splitting into training and testing sets\n",
    "X_train, X_test, y_train, y_test = train_test_split(X, y, test_size = 0.3, random_state = 16)\n",
    "\n",
    "# Training logistic regression model\n",
    "model = LogisticRegression()\n",
    "model.fit(X_train, y_train)\n",
    "\n",
    "# Making predictions on the test data\n",
    "y_pred = model.predict(X_test)\n",
    "\n",
    "# Evaluating model performance\n",
    "accuracy = accuracy_score(y_test, y_pred)\n",
    "print(\"Accuracy:\", accuracy)\n",
    "\n",
    "precision = precision_score(y_test, y_pred)\n",
    "print(\"Precision:\", precision)\n",
    "\n",
    "recall = recall_score(y_test, y_pred)\n",
    "print(\"Recall:\", recall)\n",
    "\n",
    "f1 = f1_score(y_test, y_pred, average = 'weighted')\n",
    "print(\"F1 Score:\", f1)"
   ]
  },
  {
   "cell_type": "code",
   "execution_count": 16,
   "id": "9faa3f65-4031-41f1-97da-23e4d05c1d6a",
   "metadata": {
    "tags": []
   },
   "outputs": [
    {
     "data": {
      "image/png": "[encoded data removed]",
      "text/plain": [
       "<Figure size 640x480 with 2 Axes>"
      ]
     },
     "metadata": {},
     "output_type": "display_data"
    }
   ],
   "source": [
    "# Importing libraries\n",
    "from sklearn.linear_model import LogisticRegression\n",
    "from sklearn.metrics import confusion_matrix, ConfusionMatrixDisplay\n",
    "import matplotlib.pyplot as plt\n",
    "\n",
    "# Creating and fitting the model\n",
    "model = LogisticRegression()\n",
    "model.fit(X_train, y_train)\n",
    "\n",
    "# Making predictions on the test data\n",
    "y_pred = model.predict(X_test)\n",
    "\n",
    "# Generating the confusion matrix\n",
    "cm = confusion_matrix(y_test, y_pred)\n",
    "\n",
    "# Displaying the confusion matrix\n",
    "disp = ConfusionMatrixDisplay(confusion_matrix = cm)\n",
    "disp.plot()\n",
    "plt.show()"
   ]
  },
  {
   "cell_type": "code",
   "execution_count": 17,
   "id": "d346c257-a0a5-48a7-8439-32bdcbaabea0",
   "metadata": {
    "tags": []
   },
   "outputs": [
    {
     "name": "stdout",
     "output_type": "stream",
     "text": [
      "Accuracy: 0.9998127387580834\n",
      "Precision: 0.0\n",
      "Recall: 0.0\n",
      "F1 Score: 0.9997191169046392\n"
     ]
    }
   ],
   "source": [
    "# Importing libraries\n",
    "import pandas as pd\n",
    "from sklearn.model_selection import train_test_split\n",
    "from sklearn.tree import DecisionTreeClassifier\n",
    "from sklearn.metrics import accuracy_score\n",
    "from sklearn.metrics import precision_score\n",
    "from sklearn.metrics import recall_score\n",
    "from sklearn.metrics import f1_score\n",
    "\n",
    "# Adding predictor variables and target variable\n",
    "data = m_injury_play_agg\n",
    "X = data[['StadiumType', 'Weather', 'FieldType']]\n",
    "y = data['Injury']\n",
    "\n",
    "# Splitting into training and testing sets\n",
    "X_train, X_test, y_train, y_test = train_test_split(X, y, test_size = 0.3, random_state = 16)\n",
    "\n",
    "# Creating a decision tree classifier\n",
    "model = DecisionTreeClassifier() \n",
    "model.fit(X_train, y_train) \n",
    "\n",
    "# Make predictions on the test data\n",
    "y_pred = model.predict(X_test) \n",
    "\n",
    "# Evaluate the model\n",
    "accuracy = accuracy_score(y_test, y_pred)\n",
    "print(\"Accuracy:\", accuracy)\n",
    "\n",
    "precision = precision_score(y_test, y_pred)\n",
    "print(\"Precision:\", precision)\n",
    "\n",
    "recall = recall_score(y_test, y_pred)\n",
    "print(\"Recall:\", recall)\n",
    "\n",
    "f1 = f1_score(y_test, y_pred, average = 'weighted')\n",
    "print(\"F1 Score:\", f1)"
   ]
  },
  {
   "cell_type": "code",
   "execution_count": 18,
   "id": "c7f3cd47-5368-46b9-b7b4-d5f0d4cbb49f",
   "metadata": {
    "tags": []
   },
   "outputs": [
    {
     "name": "stdout",
     "output_type": "stream",
     "text": [
      "Accuracy: 0.9998127387580834\n",
      "Precision: 0.0\n",
      "Recall: 0.0\n",
      "F1 Score: 0.9997191169046392\n",
      "Kappa: 0.0\n"
     ]
    }
   ],
   "source": [
    "# Importing libraries\n",
    "import pandas as pd\n",
    "from sklearn.model_selection import train_test_split\n",
    "from sklearn.svm import SVC\n",
    "from sklearn.metrics import accuracy_score\n",
    "from sklearn.metrics import precision_score\n",
    "from sklearn.metrics import recall_score\n",
    "from sklearn.metrics import f1_score\n",
    "from sklearn.metrics import cohen_kappa_score\n",
    "\n",
    "# Adding predictor variables and target variable\n",
    "data = m_injury_play_agg\n",
    "X = data[['StadiumType', 'Weather', 'FieldType']]\n",
    "y = data['Injury']\n",
    "\n",
    "# Splitting into training and testing sets\n",
    "X_train, X_test, y_train, y_test = train_test_split(X, y, test_size = 0.3, random_state = 16)\n",
    "\n",
    "# Creating an SVM classifier\n",
    "model = SVC(kernel='linear')\n",
    "model.fit(X_train, y_train)\n",
    "\n",
    "# Making predictions on the test data\n",
    "y_pred = model.predict(X_test)\n",
    "\n",
    "# Evaluating the model\n",
    "accuracy = accuracy_score(y_test, y_pred)\n",
    "print('Accuracy:', accuracy)\n",
    "\n",
    "precision = precision_score(y_test, y_pred)\n",
    "print(\"Precision:\", precision)\n",
    "\n",
    "recall = recall_score(y_test, y_pred)\n",
    "print(\"Recall:\", recall)\n",
    "\n",
    "f1 = f1_score(y_test, y_pred, average = 'weighted')\n",
    "print(\"F1 Score:\", f1)\n",
    "\n",
    "kappa = cohen_kappa_score(y_test, y_pred)\n",
    "print(\"Kappa:\", kappa)"
   ]
  },
  {
   "cell_type": "code",
   "execution_count": 19,
   "id": "b0850582-fe66-4e8e-8ca3-6005ac50c8d4",
   "metadata": {
    "tags": []
   },
   "outputs": [
    {
     "data": {
      "text/plain": [
       "Injury\n",
       "0    266929\n",
       "1        77\n",
       "Name: count, dtype: int64"
      ]
     },
     "execution_count": 19,
     "metadata": {},
     "output_type": "execute_result"
    }
   ],
   "source": [
    "m_injury_play_agg['Injury'].value_counts()"
   ]
  },
  {
   "cell_type": "code",
   "execution_count": 20,
   "id": "fb7133f4-935f-458a-9e5e-5023525ebd2a",
   "metadata": {},
   "outputs": [],
   "source": [
    "# Importing libraries\n",
    "import pandas as pd\n",
    "import matplotlib.pylab as plt\n",
    "import seaborn as sns\n",
    "import matplotlib.patches as patches\n",
    "import warnings\n",
    "import numpy as np\n",
    "warnings.filterwarnings('ignore')\n",
    "from time import time\n",
    "\n",
    "# Loading dataset\n",
    "injury_rec = pd.read_csv('InjuryRecord.csv')"
   ]
  },
  {
   "cell_type": "code",
   "execution_count": 21,
   "id": "372fc2a3-9096-4349-95c6-73e9cbdb20a8",
   "metadata": {
    "tags": []
   },
   "outputs": [],
   "source": [
    "# Removing unnecessary columns\n",
    "del injury_rec['PlayerKey']"
   ]
  },
  {
   "cell_type": "code",
   "execution_count": 22,
   "id": "4176025a-f735-418f-839b-cd88ab2dcc35",
   "metadata": {
    "tags": []
   },
   "outputs": [],
   "source": [
    "del injury_rec['GameID']"
   ]
  },
  {
   "cell_type": "code",
   "execution_count": 23,
   "id": "e6e5951c-e929-4ca7-b4b2-265f80255bda",
   "metadata": {
    "tags": []
   },
   "outputs": [
    {
     "data": {
      "text/html": [
       "<div>\n",
       "<style scoped>\n",
       "    .dataframe tbody tr th:only-of-type {\n",
       "        vertical-align: middle;\n",
       "    }\n",
       "\n",
       "    .dataframe tbody tr th {\n",
       "        vertical-align: top;\n",
       "    }\n",
       "\n",
       "    .dataframe thead th {\n",
       "        text-align: right;\n",
       "    }\n",
       "</style>\n",
       "<table border=\"1\" class=\"dataframe\">\n",
       "  <thead>\n",
       "    <tr style=\"text-align: right;\">\n",
       "      <th></th>\n",
       "      <th>BodyPart</th>\n",
       "      <th>Surface</th>\n",
       "      <th>DM_M1</th>\n",
       "      <th>DM_M7</th>\n",
       "      <th>DM_M28</th>\n",
       "      <th>DM_M42</th>\n",
       "    </tr>\n",
       "  </thead>\n",
       "  <tbody>\n",
       "    <tr>\n",
       "      <th>0</th>\n",
       "      <td>Knee</td>\n",
       "      <td>Synthetic</td>\n",
       "      <td>1</td>\n",
       "      <td>1</td>\n",
       "      <td>1</td>\n",
       "      <td>1</td>\n",
       "    </tr>\n",
       "    <tr>\n",
       "      <th>1</th>\n",
       "      <td>Knee</td>\n",
       "      <td>Natural</td>\n",
       "      <td>1</td>\n",
       "      <td>1</td>\n",
       "      <td>0</td>\n",
       "      <td>0</td>\n",
       "    </tr>\n",
       "    <tr>\n",
       "      <th>2</th>\n",
       "      <td>Ankle</td>\n",
       "      <td>Synthetic</td>\n",
       "      <td>1</td>\n",
       "      <td>1</td>\n",
       "      <td>1</td>\n",
       "      <td>1</td>\n",
       "    </tr>\n",
       "    <tr>\n",
       "      <th>3</th>\n",
       "      <td>Ankle</td>\n",
       "      <td>Natural</td>\n",
       "      <td>1</td>\n",
       "      <td>0</td>\n",
       "      <td>0</td>\n",
       "      <td>0</td>\n",
       "    </tr>\n",
       "    <tr>\n",
       "      <th>4</th>\n",
       "      <td>Ankle</td>\n",
       "      <td>Synthetic</td>\n",
       "      <td>1</td>\n",
       "      <td>1</td>\n",
       "      <td>1</td>\n",
       "      <td>1</td>\n",
       "    </tr>\n",
       "  </tbody>\n",
       "</table>\n",
       "</div>"
      ],
      "text/plain": [
       "  BodyPart    Surface  DM_M1  DM_M7  DM_M28  DM_M42\n",
       "0     Knee  Synthetic      1      1       1       1\n",
       "1     Knee    Natural      1      1       0       0\n",
       "2    Ankle  Synthetic      1      1       1       1\n",
       "3    Ankle    Natural      1      0       0       0\n",
       "4    Ankle  Synthetic      1      1       1       1"
      ]
     },
     "execution_count": 23,
     "metadata": {},
     "output_type": "execute_result"
    }
   ],
   "source": [
    "del injury_rec['PlayKey']\n",
    "injury_rec.head()"
   ]
  },
  {
   "cell_type": "code",
   "execution_count": 24,
   "id": "ac4d83ad-2ae9-482b-9124-64e362512b3c",
   "metadata": {
    "tags": []
   },
   "outputs": [
    {
     "name": "stdout",
     "output_type": "stream",
     "text": [
      "Accuracy: 0.5238095238095238\n",
      "Precision: 0.6153846153846154\n",
      "F1 Score: 0.5238095238095238\n",
      "Recall: 0.6153846153846154\n"
     ]
    }
   ],
   "source": [
    "# Importing libraries\n",
    "import pandas as pd\n",
    "from sklearn.model_selection import train_test_split\n",
    "from sklearn.ensemble import RandomForestClassifier\n",
    "from sklearn.metrics import accuracy_score\n",
    "from sklearn.metrics import precision_score\n",
    "from sklearn.metrics import recall_score\n",
    "from sklearn.metrics import f1_score\n",
    "\n",
    "# Adding predictor variables and target variable\n",
    "data = injury_rec\n",
    "X = data[['DM_M7', 'DM_M28', 'DM_M42']]\n",
    "y = data['Surface']\n",
    "\n",
    "# Splitting into training and testing sets\n",
    "X_train, X_test, y_train, y_test = train_test_split(X, y, test_size = 0.20, random_state = 16)\n",
    "\n",
    "# Training a random forest classifier\n",
    "model = RandomForestClassifier()\n",
    "model.fit(X_train, y_train)\n",
    "\n",
    "# Making predictions on test data\n",
    "y_pred = model.predict(X_test)\n",
    "\n",
    "# Evaluating model performance\n",
    "accuracy = accuracy_score(y_test, y_pred)\n",
    "print('Accuracy:', accuracy)\n",
    "\n",
    "precision = precision_score(y_test, y_pred, average = \"binary\", pos_label = \"Synthetic\")\n",
    "print(\"Precision:\", precision)\n",
    "\n",
    "f1 = f1_score(y_test, y_pred, average = 'weighted')\n",
    "print(\"F1 Score:\", f1)\n",
    "\n",
    "recall = recall_score(y_test, y_pred, pos_label = \"Synthetic\")\n",
    "print(\"Recall:\", recall)"
   ]
  },
  {
   "cell_type": "code",
   "execution_count": 25,
   "id": "eb700be8-cbbb-4c1f-ae4d-31c9943875af",
   "metadata": {
    "tags": []
   },
   "outputs": [
    {
     "data": {
      "image/png": "[encoded data removed]",
      "text/plain": [
       "<Figure size 640x480 with 2 Axes>"
      ]
     },
     "metadata": {},
     "output_type": "display_data"
    }
   ],
   "source": [
    "# Importing libraries\n",
    "from sklearn.ensemble import RandomForestClassifier\n",
    "from sklearn.metrics import confusion_matrix, ConfusionMatrixDisplay\n",
    "import matplotlib.pyplot as plt\n",
    "\n",
    "# Creating and fitting the model\n",
    "model = RandomForestClassifier()\n",
    "model.fit(X_train, y_train)\n",
    "\n",
    "# Making predictions on the test data\n",
    "y_pred = model.predict(X_test)\n",
    "\n",
    "# Generating the confusion matrix\n",
    "cm = confusion_matrix(y_test, y_pred)\n",
    "\n",
    "# Displaying the confusion matrix\n",
    "disp = ConfusionMatrixDisplay(confusion_matrix = cm)\n",
    "disp.plot()\n",
    "plt.show()"
   ]
  },
  {
   "cell_type": "code",
   "execution_count": 26,
   "id": "545e7338-fcbf-4655-95f0-23de5a9ff64e",
   "metadata": {
    "tags": []
   },
   "outputs": [
    {
     "name": "stdout",
     "output_type": "stream",
     "text": [
      "Accuracy: 0.5238095238095238\n",
      "Precision: 0.6153846153846154\n",
      "F1 Score: 0.5238095238095238\n",
      "Recall: 0.6153846153846154\n"
     ]
    }
   ],
   "source": [
    "# Importing libraries\n",
    "import pandas as pd\n",
    "from sklearn.model_selection import train_test_split\n",
    "from sklearn.linear_model import LogisticRegression\n",
    "from sklearn.metrics import accuracy_score\n",
    "from sklearn.metrics import precision_score\n",
    "from sklearn.metrics import recall_score\n",
    "from sklearn.metrics import f1_score\n",
    "\n",
    "# Adding predictor variables and target variable\n",
    "data = injury_rec\n",
    "X = data[['DM_M7', 'DM_M28', 'DM_M42']]\n",
    "y = data['Surface']\n",
    "\n",
    "# Splitting into training and testing sets\n",
    "X_train, X_test, y_train, y_test = train_test_split(X, y, test_size = 0.20, random_state = 16)\n",
    "\n",
    "# Training for logistic regression\n",
    "model = LogisticRegression()\n",
    "model.fit(X_train, y_train)\n",
    "\n",
    "# Making predictions on test data\n",
    "y_pred = model.predict(X_test)\n",
    "\n",
    "# Evaluating model performance\n",
    "accuracy = accuracy_score(y_test, y_pred)\n",
    "print('Accuracy:', accuracy)\n",
    "\n",
    "precision = precision_score(y_test, y_pred, average = \"binary\", pos_label = \"Synthetic\")\n",
    "print(\"Precision:\", precision)\n",
    "\n",
    "f1 = f1_score(y_test, y_pred, average = 'weighted')\n",
    "print(\"F1 Score:\", f1)\n",
    "\n",
    "recall = recall_score(y_test, y_pred, pos_label = \"Synthetic\")\n",
    "print(\"Recall:\", recall)"
   ]
  }
 ],
 "metadata": {
  "kernelspec": {
   "display_name": "Python 3 (ipykernel)",
   "language": "python",
   "name": "python3"
  },
  "language_info": {
   "codemirror_mode": {
    "name": "ipython",
    "version": 3
   },
   "file_extension": ".py",
   "mimetype": "text/x-python",
   "name": "python",
   "nbconvert_exporter": "python",
   "pygments_lexer": "ipython3",
   "version": "3.11.5"
  }
 },
 "nbformat": 4,
 "nbformat_minor": 5
}
